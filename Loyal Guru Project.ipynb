{
 "cells": [
  {
   "cell_type": "code",
   "execution_count": 1,
   "id": "cfd9ff79-94e0-4b66-92de-9eaf0243235a",
   "metadata": {},
   "outputs": [],
   "source": [
    "# Import necessary libraries\n",
    "import pandas as pd\n",
    "import matplotlib.pyplot as plt\n",
    "from sklearn.cluster import KMeans\n",
    "from sklearn.preprocessing import StandardScaler"
   ]
  },
  {
   "cell_type": "code",
   "execution_count": 9,
   "id": "b9bd1bc3-136b-44cf-81a8-61b3b156214f",
   "metadata": {},
   "outputs": [],
   "source": [
    "data_path = \"C:\\\\Users\\\\LENOVO\\\\.jupyter\\\\Loyal Guru Project\\\\Customer Data\\\\data.csv.zip\"\n",
    "df = pd.read_csv(data_path, encoding='ISO-8859-1')"
   ]
  },
  {
   "cell_type": "code",
   "execution_count": 11,
   "id": "9c25d6b5-c164-4cef-95a4-a34fb063ebff",
   "metadata": {},
   "outputs": [
    {
     "name": "stdout",
     "output_type": "stream",
     "text": [
      "  InvoiceNo StockCode                          Description  Quantity  \\\n",
      "0    536365    85123A   WHITE HANGING HEART T-LIGHT HOLDER         6   \n",
      "1    536365     71053                  WHITE METAL LANTERN         6   \n",
      "2    536365    84406B       CREAM CUPID HEARTS COAT HANGER         8   \n",
      "3    536365    84029G  KNITTED UNION FLAG HOT WATER BOTTLE         6   \n",
      "4    536365    84029E       RED WOOLLY HOTTIE WHITE HEART.         6   \n",
      "\n",
      "      InvoiceDate  UnitPrice  CustomerID         Country  \n",
      "0  12/1/2010 8:26       2.55     17850.0  United Kingdom  \n",
      "1  12/1/2010 8:26       3.39     17850.0  United Kingdom  \n",
      "2  12/1/2010 8:26       2.75     17850.0  United Kingdom  \n",
      "3  12/1/2010 8:26       3.39     17850.0  United Kingdom  \n",
      "4  12/1/2010 8:26       3.39     17850.0  United Kingdom  \n",
      "<class 'pandas.core.frame.DataFrame'>\n",
      "RangeIndex: 541909 entries, 0 to 541908\n",
      "Data columns (total 8 columns):\n",
      " #   Column       Non-Null Count   Dtype  \n",
      "---  ------       --------------   -----  \n",
      " 0   InvoiceNo    541909 non-null  object \n",
      " 1   StockCode    541909 non-null  object \n",
      " 2   Description  540455 non-null  object \n",
      " 3   Quantity     541909 non-null  int64  \n",
      " 4   InvoiceDate  541909 non-null  object \n",
      " 5   UnitPrice    541909 non-null  float64\n",
      " 6   CustomerID   406829 non-null  float64\n",
      " 7   Country      541909 non-null  object \n",
      "dtypes: float64(2), int64(1), object(5)\n",
      "memory usage: 33.1+ MB\n",
      "None\n"
     ]
    }
   ],
   "source": [
    "# Quick data overview\n",
    "print(df.head())\n",
    "print(df.info())"
   ]
  },
  {
   "cell_type": "code",
   "execution_count": 33,
   "id": "2c7dd455-e04a-4ea5-afa0-cc92477cc7ce",
   "metadata": {},
   "outputs": [],
   "source": [
    "# Drop rows with missing CustomerID (hard to segment anonymous customers)\n",
    "df = df.dropna(subset=['CustomerID'])"
   ]
  },
  {
   "cell_type": "code",
   "execution_count": 35,
   "id": "207117e0-a1d8-4b6d-9954-47b07cec4b7e",
   "metadata": {},
   "outputs": [],
   "source": [
    "# Convert InvoiceDate to datetime\n",
    "df['InvoiceDate'] = pd.to_datetime(df['InvoiceDate'])"
   ]
  },
  {
   "cell_type": "code",
   "execution_count": 37,
   "id": "a9161888-e172-480d-987e-99dcbf00d12e",
   "metadata": {},
   "outputs": [],
   "source": [
    "# Remove negative or zero quantity orders (usually returns or errors)\n",
    "df = df[df['Quantity'] > 0]"
   ]
  },
  {
   "cell_type": "code",
   "execution_count": 39,
   "id": "817e955d-b2db-4f5b-b52d-ed46d9d85549",
   "metadata": {},
   "outputs": [
    {
     "name": "stdout",
     "output_type": "stream",
     "text": [
      "<class 'pandas.core.frame.DataFrame'>\n",
      "Index: 397924 entries, 0 to 541908\n",
      "Data columns (total 9 columns):\n",
      " #   Column       Non-Null Count   Dtype         \n",
      "---  ------       --------------   -----         \n",
      " 0   InvoiceNo    397924 non-null  object        \n",
      " 1   StockCode    397924 non-null  object        \n",
      " 2   Description  397924 non-null  object        \n",
      " 3   Quantity     397924 non-null  int64         \n",
      " 4   InvoiceDate  397924 non-null  datetime64[ns]\n",
      " 5   UnitPrice    397924 non-null  float64       \n",
      " 6   CustomerID   397924 non-null  float64       \n",
      " 7   Country      397924 non-null  object        \n",
      " 8   TotalPrice   397924 non-null  float64       \n",
      "dtypes: datetime64[ns](1), float64(3), int64(1), object(4)\n",
      "memory usage: 30.4+ MB\n",
      "None\n"
     ]
    }
   ],
   "source": [
    "print(df.info())"
   ]
  },
  {
   "cell_type": "code",
   "execution_count": 41,
   "id": "9a03f665-b965-4e5b-8777-a00fe0fb4056",
   "metadata": {},
   "outputs": [
    {
     "name": "stdout",
     "output_type": "stream",
     "text": [
      "            Recency  Frequency  Monetary  UnitPrice\n",
      "CustomerID                                         \n",
      "12346.0         326          1  77183.60   1.040000\n",
      "12347.0           2          7   4310.00   2.644011\n",
      "12348.0          75          4   1797.24   5.764839\n",
      "12349.0          19          1   1757.55   8.289041\n",
      "12350.0         310          1    334.40   3.841176\n"
     ]
    },
    {
     "name": "stderr",
     "output_type": "stream",
     "text": [
      "C:\\Users\\LENOVO\\AppData\\Local\\Temp\\ipykernel_3768\\962841027.py:15: DeprecationWarning: DataFrameGroupBy.apply operated on the grouping columns. This behavior is deprecated, and in a future version of pandas the grouping columns will be excluded from the operation. Either pass `include_groups=False` to exclude the groupings or explicitly select the grouping columns after groupby to silence this warning.\n",
      "  rfm['Monetary'] = df.groupby('CustomerID').apply(lambda x: (x['Quantity'] * x['UnitPrice']).sum())\n"
     ]
    }
   ],
   "source": [
    "import datetime as dt\n",
    "\n",
    "# Reference date: the day after the last purchase in data (to calculate recency)\n",
    "snapshot_date = df['InvoiceDate'].max() + pd.Timedelta(days=1)\n",
    "\n",
    "# Aggregate RFM metrics per customer\n",
    "rfm = df.groupby('CustomerID').agg({\n",
    "    'InvoiceDate': lambda x: (snapshot_date - x.max()).days,  # Recency\n",
    "    'InvoiceNo': 'nunique',                                  # Frequency (unique invoices)\n",
    "    'Quantity': 'sum',                                       # Total quantity bought\n",
    "    'UnitPrice': 'mean'                                      # Avg price per item (optional)\n",
    "}).rename(columns={'InvoiceDate': 'Recency', 'InvoiceNo': 'Frequency', 'Quantity': 'Monetary'})\n",
    "\n",
    "# Monetary could also be quantity * unit price sum per customer:\n",
    "rfm['Monetary'] = df.groupby('CustomerID').apply(lambda x: (x['Quantity'] * x['UnitPrice']).sum())\n",
    "\n",
    "print(rfm.head())"
   ]
  },
  {
   "cell_type": "code",
   "execution_count": 43,
   "id": "ea95d643-3b2b-4220-be1a-e10d92645fe3",
   "metadata": {},
   "outputs": [],
   "source": [
    "from sklearn.preprocessing import StandardScaler\n",
    "\n",
    "scaler = StandardScaler()\n",
    "rfm_scaled = scaler.fit_transform(rfm)\n",
    "\n",
    "# Convert back to DataFrame for convenience\n",
    "rfm_scaled = pd.DataFrame(rfm_scaled, index=rfm.index, columns=rfm.columns)"
   ]
  },
  {
   "cell_type": "code",
   "execution_count": 45,
   "id": "d99ceb3f-11f1-4768-893f-72a723e2762f",
   "metadata": {},
   "outputs": [
    {
     "data": {
      "image/png": "[encoded data removed]",
      "text/plain": [
       "<Figure size 640x480 with 1 Axes>"
      ]
     },
     "metadata": {},
     "output_type": "display_data"
    },
    {
     "name": "stdout",
     "output_type": "stream",
     "text": [
      "            Recency  Frequency  Monetary  UnitPrice  Segment\n",
      "CustomerID                                                  \n",
      "12346.0         326          1  77183.60   1.040000        1\n",
      "12347.0           2          7   4310.00   2.644011        0\n",
      "12348.0          75          4   1797.24   5.764839        0\n",
      "12349.0          19          1   1757.55   8.289041        0\n",
      "12350.0         310          1    334.40   3.841176        1\n"
     ]
    }
   ],
   "source": [
    "from sklearn.cluster import KMeans\n",
    "import matplotlib.pyplot as plt\n",
    "\n",
    "# Find optimal k (optional) with elbow method\n",
    "sse = []\n",
    "for k in range(1, 10):\n",
    "    km = KMeans(n_clusters=k, random_state=42)\n",
    "    km.fit(rfm_scaled)\n",
    "    sse.append(km.inertia_)\n",
    "\n",
    "plt.plot(range(1, 10), sse, marker='o')\n",
    "plt.xlabel('Number of clusters')\n",
    "plt.ylabel('SSE')\n",
    "plt.title('Elbow Method For Optimal k')\n",
    "plt.show()\n",
    "\n",
    "# Choose k (say 4 for example)\n",
    "k = 4\n",
    "kmeans = KMeans(n_clusters=k, random_state=42)\n",
    "rfm['Segment'] = kmeans.fit_predict(rfm_scaled)\n",
    "\n",
    "print(rfm.head())"
   ]
  },
  {
   "cell_type": "code",
   "execution_count": 47,
   "id": "a03f516e-a36e-4109-a167-b605539b8da3",
   "metadata": {},
   "outputs": [
    {
     "name": "stdout",
     "output_type": "stream",
     "text": [
      "            Recency  Frequency  Monetary  Segment  \\\n",
      "CustomerID                                          \n",
      "12346.0         326          1  77183.60        1   \n",
      "12347.0           2          7   4310.00        0   \n",
      "12348.0          75          4   1797.24        0   \n",
      "12349.0          19          1   1757.55        0   \n",
      "12350.0         310          1    334.40        1   \n",
      "\n",
      "                                    Campaign  \n",
      "CustomerID                                    \n",
      "12346.0     Exclusive rewards & early access  \n",
      "12347.0     Welcome bonus & referral program  \n",
      "12348.0     Welcome bonus & referral program  \n",
      "12349.0     Welcome bonus & referral program  \n",
      "12350.0     Exclusive rewards & early access  \n"
     ]
    }
   ],
   "source": [
    "# Example assignment based on segments\n",
    "campaign_map = {\n",
    "    0: \"Welcome bonus & referral program\",\n",
    "    1: \"Exclusive rewards & early access\",\n",
    "    2: \"Targeted discounts to increase purchase frequency\",\n",
    "    3: \"Re-engagement offers for at-risk customers\"\n",
    "}\n",
    "\n",
    "rfm['Campaign'] = rfm['Segment'].map(campaign_map)\n",
    "\n",
    "print(rfm[['Recency', 'Frequency', 'Monetary', 'Segment', 'Campaign']].head())"
   ]
  },
  {
   "cell_type": "code",
   "execution_count": null,
   "id": "a1c8de17-4555-47ed-990c-e87e52472810",
   "metadata": {},
   "outputs": [],
   "source": []
  }
 ],
 "metadata": {
  "kernelspec": {
   "display_name": "Python [conda env:base] *",
   "language": "python",
   "name": "conda-base-py"
  },
  "language_info": {
   "codemirror_mode": {
    "name": "ipython",
    "version": 3
   },
   "file_extension": ".py",
   "mimetype": "text/x-python",
   "name": "python",
   "nbconvert_exporter": "python",
   "pygments_lexer": "ipython3",
   "version": "3.12.7"
  }
 },
 "nbformat": 4,
 "nbformat_minor": 5
}
